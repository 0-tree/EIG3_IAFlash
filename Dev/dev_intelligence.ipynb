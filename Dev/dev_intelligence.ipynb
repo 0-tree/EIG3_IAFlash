{
 "cells": [
  {
   "cell_type": "markdown",
   "metadata": {},
   "source": [
    "# [IAFlash](https://entrepreneur-interet-general.etalab.gouv.fr/defis/2019/iaflash.html) simple exploration"
   ]
  },
  {
   "cell_type": "markdown",
   "metadata": {},
   "source": [
    "## Intelligence"
   ]
  },
  {
   "cell_type": "markdown",
   "metadata": {},
   "source": [
    "We will give a try to transfer learning, using `Keras`.  \n",
    "Specifically, we will reuse model `XXX`, and perform standard data augmentation using [`keras.preprocessing.image.ImageDataGenerator`](https://keras.io/preprocessing/image/)."
   ]
  },
  {
   "cell_type": "markdown",
   "metadata": {},
   "source": [
    "### Imports"
   ]
  },
  {
   "cell_type": "code",
   "execution_count": 1,
   "metadata": {},
   "outputs": [
    {
     "name": "stderr",
     "output_type": "stream",
     "text": [
      "Using TensorFlow backend.\n"
     ]
    }
   ],
   "source": [
    "import os\n",
    "HOME = os.path.expanduser('~/')\n",
    "HOST = os.uname()[1]\n",
    "if HOST == 'Arthurs-MacBook-Pro.local':\n",
    "    os.chdir(os.path.join(HOME, 'Documents/GitHub/EIG3_IAFlash/'))    # @home\n",
    "else:\n",
    "    raise ValueError('unknown host: {}'.format(HOST))\n",
    "    \n",
    "import numpy as np\n",
    "import re\n",
    "# import pandas as pd\n",
    "import time\n",
    "import pickle\n",
    "from PIL import Image\n",
    "\n",
    "from keras.preprocessing.image import ImageDataGenerator\n",
    "from keras.applications import densenet\n",
    "from keras.models import Sequential, Model, load_model\n",
    "from keras.layers import Conv2D, MaxPooling2D\n",
    "from keras.layers import Activation, Dropout, Flatten, Dense\n",
    "from keras.callbacks import EarlyStopping, ReduceLROnPlateau, ModelCheckpoint, Callback\n",
    "from keras import regularizers\n",
    "from keras import backend as K\n",
    "\n",
    "import matplotlib.pyplot as plt\n",
    "%matplotlib inline\n",
    "\n",
    "# from IAFlash.helpers import DataHandler, ImageWorker # needs correct working directory"
   ]
  },
  {
   "cell_type": "markdown",
   "metadata": {},
   "source": [
    "### Variables"
   ]
  },
  {
   "cell_type": "code",
   "execution_count": 2,
   "metadata": {
    "scrolled": true
   },
   "outputs": [],
   "source": [
    "# data\n",
    "if HOST == 'Arthurs-MacBook-Pro.local':\n",
    "    pathToDataDir = os.path.join(HOME, 'Documents/Dropbox/Transit/EIG3_IAFlash/Patches/edge128bwTrueresampleFilter0')\n",
    "    pathToIntellDir = os.path.join(HOME, 'Documents/GitHub/EIG3_IAFlash/IAFlash/Intelligence/')\n",
    "else:\n",
    "    raise ValueError('unknown host: {}'.format(HOST))\n",
    "data_format = 'channels_last'\n",
    "nbClass = 196\n",
    "\n",
    "# image processing\n",
    "edge = int(re.findall('edge([0-9]*)',pathToDataDir)[0])\n",
    "if 'bwTrue' in pathToDataDir:\n",
    "    mode = 'grayscale'\n",
    "elif 'bwFalse' in pathToDataDir:\n",
    "    mode = 'rgb'\n",
    "else:\n",
    "    raise ValueError('color mode not undestood from data directory name')\n",
    "    \n",
    "# learning params\n",
    "# IAH: get the parameters from cells bellow\n",
    "\n",
    "# seed\n",
    "seed = 8\n",
    "np.random.seed(seed)"
   ]
  },
  {
   "cell_type": "markdown",
   "metadata": {},
   "source": [
    "### Intelligence"
   ]
  },
  {
   "cell_type": "markdown",
   "metadata": {},
   "source": [
    "The [`keras.preprocessing.image.ImageDataGenerator`](https://keras.io/preprocessing/image/) object allows to augment data easily. Depending on the method used, data augmentation can be done once-for-all or on-the-fly. We will choose on-the-fly augmentation to avoid storing to large data."
   ]
  },
  {
   "cell_type": "code",
   "execution_count": null,
   "metadata": {},
   "outputs": [],
   "source": []
  },
  {
   "cell_type": "code",
   "execution_count": null,
   "metadata": {},
   "outputs": [],
   "source": []
  },
  {
   "cell_type": "code",
   "execution_count": 3,
   "metadata": {},
   "outputs": [
    {
     "name": "stdout",
     "output_type": "stream",
     "text": [
      "Found 8144 images belonging to 196 classes.\n",
      "Found 1600 images belonging to 196 classes.\n"
     ]
    }
   ],
   "source": [
    "# prepare a dataset augmenter\n",
    "batch_size = 32\n",
    "\n",
    "# NB: only train data need augmentation\n",
    "train_datagen = ImageDataGenerator(featurewise_center=False,\n",
    "                                   samplewise_center=False,\n",
    "                                   featurewise_std_normalization=False,\n",
    "                                   samplewise_std_normalization=False,\n",
    "                                   zca_whitening=False, # explore this later\n",
    "                                   zca_epsilon=1e-06,\n",
    "                                   rotation_range=20, # 0\n",
    "                                   width_shift_range=0.0,\n",
    "                                   height_shift_range=0.0,\n",
    "                                   shear_range=0.0,\n",
    "                                   zoom_range=0.0,\n",
    "                                   channel_shift_range=0.0,\n",
    "                                   fill_mode='constant', #'nearest',\n",
    "                                   cval=0.0,\n",
    "                                   horizontal_flip=True, # False\n",
    "                                   vertical_flip=False,\n",
    "                                   rescale=1./255, # None\n",
    "                                   preprocessing_function=None,\n",
    "                                   data_format=data_format)\n",
    "\n",
    "train_generator = train_datagen.flow_from_directory(os.path.join(pathToDataDir, 'Train'), # \"it should contain one subdirectory per class\"\n",
    "                                                    target_size=(edge, edge),\n",
    "                                                    color_mode=mode,\n",
    "                                                    classes=None, # will infer from the directory structure\n",
    "                                                    class_mode='categorical',\n",
    "                                                    batch_size=batch_size,\n",
    "                                                    shuffle=True,\n",
    "                                                    seed=seed,\n",
    "                                                    save_to_dir=None, # we will observe directly here\n",
    "                                                    save_prefix=None,\n",
    "                                                    save_format=None,\n",
    "                                                    follow_links=False,\n",
    "                                                    interpolation='nearest')\n",
    "\n",
    "# NB: validation data use `ImageDataGenerator` for the convenance of directory parsing\n",
    "test_datagen = ImageDataGenerator(rescale=1./255)\n",
    "\n",
    "validation_generator = test_datagen.flow_from_directory(os.path.join(pathToDataDir, 'Validation'), # \"it should contain one subdirectory per class\"\n",
    "                                                        target_size=(edge, edge),\n",
    "                                                        color_mode=mode,\n",
    "                                                        class_mode='categorical',\n",
    "                                                        batch_size=batch_size)"
   ]
  },
  {
   "cell_type": "code",
   "execution_count": 4,
   "metadata": {},
   "outputs": [
    {
     "data": {
      "image/png": "[encoded data removed]",
      "text/plain": [
       "<PIL.JpegImagePlugin.JpegImageFile image mode=L size=128x128 at 0x106035F98>"
      ]
     },
     "metadata": {},
     "output_type": "display_data"
    },
    {
     "data": {
      "image/png": "[encoded data removed]",
      "text/plain": [
       "<PIL.Image.Image image mode=L size=128x128 at 0x1813507748>"
      ]
     },
     "metadata": {},
     "output_type": "display_data"
    }
   ],
   "source": [
    "# example of data augmentation\n",
    "i = 1\n",
    "im = Image.open(os.path.join(pathToDataDir, 'Train', train_generator.filenames[i]))\n",
    "x_im = np.array(im).reshape((edge, edge, 1))\n",
    "x_im_t = train_datagen.random_transform(x_im, seed=None).reshape(edge, edge)\n",
    "im_t = Image.fromarray(x_im_t)\n",
    "\n",
    "display(im)\n",
    "display(im_t)"
   ]
  },
  {
   "cell_type": "code",
   "execution_count": 5,
   "metadata": {},
   "outputs": [
    {
     "name": "stdout",
     "output_type": "stream",
     "text": [
      "_________________________________________________________________\n",
      "Layer (type)                 Output Shape              Param #   \n",
      "=================================================================\n",
      "conv2d_1 (Conv2D)            (None, 128, 128, 1)       82        \n",
      "_________________________________________________________________\n",
      "activation_1 (Activation)    (None, 128, 128, 1)       0         \n",
      "_________________________________________________________________\n",
      "max_pooling2d_1 (MaxPooling2 (None, 43, 43, 1)         0         \n",
      "_________________________________________________________________\n",
      "flatten_1 (Flatten)          (None, 1849)              0         \n",
      "_________________________________________________________________\n",
      "dense_1 (Dense)              (None, 196)               362600    \n",
      "_________________________________________________________________\n",
      "activation_2 (Activation)    (None, 196)               0         \n",
      "=================================================================\n",
      "Total params: 362,682\n",
      "Trainable params: 362,682\n",
      "Non-trainable params: 0\n",
      "_________________________________________________________________\n"
     ]
    }
   ],
   "source": [
    "# build a model\n",
    "\n",
    "model = Sequential()\n",
    "model.add(Conv2D(input_shape=train_generator.image_shape,\n",
    "                 filters=1,\n",
    "                 kernel_size=9,\n",
    "                 strides=1,\n",
    "                 padding='same',\n",
    "                 data_format=train_generator.data_format,\n",
    "                 dilation_rate=1,\n",
    "                 activation=None, # explicit it later\n",
    "                 use_bias=True,\n",
    "                 kernel_initializer='glorot_uniform',\n",
    "                 bias_initializer='zeros',\n",
    "                 kernel_regularizer=None,\n",
    "                 bias_regularizer=None,\n",
    "                 activity_regularizer=None,\n",
    "                 kernel_constraint=None,\n",
    "                 bias_constraint=None))\n",
    "model.add(Activation('relu'))\n",
    "model.add(MaxPooling2D(pool_size=(3, 3),\n",
    "                       strides=None,\n",
    "                       padding='same',\n",
    "                       data_format=train_generator.data_format))\n",
    "model.add(Flatten())\n",
    "model.add(Dense(train_generator.num_classes))\n",
    "model.add(Activation('softmax'))\n",
    "\n",
    "\n",
    "model.summary()"
   ]
  },
  {
   "cell_type": "code",
   "execution_count": 6,
   "metadata": {},
   "outputs": [],
   "source": [
    "# set compilation params\n",
    "\n",
    "loss = 'categorical_crossentropy'\n",
    "\n",
    "#optim = SGD(lr=0.01, decay=1e-6, momentum=0.9, nesterov=True)\n",
    "optim = 'adam'\n",
    "#optim = Adamax()\n",
    "\n",
    "metric = ['accuracy']\n",
    "\n",
    "model.compile(loss=loss,\n",
    "              optimizer=optim,\n",
    "              metrics=metric)"
   ]
  },
  {
   "cell_type": "code",
   "execution_count": null,
   "metadata": {},
   "outputs": [],
   "source": [
    "# set fitting params\n",
    "\n",
    "epochs = 10\n",
    "\n",
    "earlystop = EarlyStopping(monitor='val_loss',\n",
    "                          min_delta=0,\n",
    "                          patience=20,\n",
    "                          verbose=1)\n",
    "checkpoint = ModelCheckpoint(os.path.join(pathToIntellDir, 'model_v0.hdf5'),\n",
    "                             monitor='val_loss',\n",
    "                             verbose=1,\n",
    "                             save_best_only=True,\n",
    "                             save_weights_only=False,\n",
    "                             period=1)\n",
    "reducelr = ReduceLROnPlateau(monitor='val_loss',\n",
    "                             factor=0.1,\n",
    "                             patience=4,\n",
    "                             verbose=1)"
   ]
  },
  {
   "cell_type": "code",
   "execution_count": 7,
   "metadata": {},
   "outputs": [
    {
     "name": "stdout",
     "output_type": "stream",
     "text": [
      "Epoch 1/10\n",
      "253/254 [============================>.] - ETA: 0s - loss: 5.2797 - acc: 0.0057\n",
      "Epoch 00001: val_loss improved from inf to 5.27409, saving model to /Users/arthur/Documents/GitHub/EIG3_IAFlash/IAFlash/Intelligence/model_v0.hdf5\n",
      "254/254 [==============================] - 89s 349ms/step - loss: 5.2797 - acc: 0.0057 - val_loss: 5.2741 - val_acc: 0.0075\n",
      "Epoch 2/10\n",
      "253/254 [============================>.] - ETA: 0s - loss: 5.2391 - acc: 0.0104\n",
      "Epoch 00002: val_loss improved from 5.27409 to 5.22060, saving model to /Users/arthur/Documents/GitHub/EIG3_IAFlash/IAFlash/Intelligence/model_v0.hdf5\n",
      "254/254 [==============================] - 90s 352ms/step - loss: 5.2391 - acc: 0.0103 - val_loss: 5.2206 - val_acc: 0.0069\n",
      "Epoch 3/10\n",
      "253/254 [============================>.] - ETA: 0s - loss: 5.1140 - acc: 0.0253\n",
      "Epoch 00003: val_loss improved from 5.22060 to 5.19752, saving model to /Users/arthur/Documents/GitHub/EIG3_IAFlash/IAFlash/Intelligence/model_v0.hdf5\n",
      "254/254 [==============================] - 88s 345ms/step - loss: 5.1140 - acc: 0.0252 - val_loss: 5.1975 - val_acc: 0.0119\n",
      "Epoch 4/10\n",
      "253/254 [============================>.] - ETA: 0s - loss: 5.0079 - acc: 0.0399\n",
      "Epoch 00004: val_loss improved from 5.19752 to 5.17191, saving model to /Users/arthur/Documents/GitHub/EIG3_IAFlash/IAFlash/Intelligence/model_v0.hdf5\n",
      "254/254 [==============================] - 88s 345ms/step - loss: 5.0076 - acc: 0.0400 - val_loss: 5.1719 - val_acc: 0.0125\n",
      "Epoch 5/10\n",
      "253/254 [============================>.] - ETA: 0s - loss: 4.9348 - acc: 0.0506\n",
      "Epoch 00005: val_loss did not improve\n",
      "254/254 [==============================] - 88s 346ms/step - loss: 4.9352 - acc: 0.0504 - val_loss: 5.1747 - val_acc: 0.0187\n",
      "Epoch 6/10\n",
      "253/254 [============================>.] - ETA: 0s - loss: 4.8771 - acc: 0.0515\n",
      "Epoch 00006: val_loss did not improve\n",
      "254/254 [==============================] - 86s 340ms/step - loss: 4.8775 - acc: 0.0516 - val_loss: 5.1865 - val_acc: 0.0200\n",
      "Epoch 7/10\n",
      "253/254 [============================>.] - ETA: 0s - loss: 4.8434 - acc: 0.0550\n",
      "Epoch 00007: val_loss did not improve\n",
      "254/254 [==============================] - 88s 347ms/step - loss: 4.8426 - acc: 0.0550 - val_loss: 5.1732 - val_acc: 0.0231\n",
      "Epoch 8/10\n",
      "253/254 [============================>.] - ETA: 0s - loss: 4.7843 - acc: 0.0679\n",
      "Epoch 00008: val_loss did not improve\n",
      "254/254 [==============================] - 85s 334ms/step - loss: 4.7829 - acc: 0.0684 - val_loss: 5.1916 - val_acc: 0.0225\n",
      "Epoch 9/10\n",
      "253/254 [============================>.] - ETA: 0s - loss: 4.7372 - acc: 0.0762\n",
      "Epoch 00009: val_loss did not improve\n",
      "\n",
      "Epoch 00009: ReduceLROnPlateau reducing learning rate to 0.00010000000474974513.\n",
      "254/254 [==============================] - 85s 333ms/step - loss: 4.7379 - acc: 0.0760 - val_loss: 5.1831 - val_acc: 0.0231\n",
      "Epoch 10/10\n",
      "253/254 [============================>.] - ETA: 0s - loss: 4.6648 - acc: 0.0762\n",
      "Epoch 00010: val_loss did not improve\n",
      "254/254 [==============================] - 85s 333ms/step - loss: 4.6658 - acc: 0.0762 - val_loss: 5.2380 - val_acc: 0.0225\n"
     ]
    }
   ],
   "source": [
    "# train the model\n",
    "\n",
    "model_history = model.fit_generator(train_generator,\n",
    "                                    epochs=epochs,\n",
    "                                    steps_per_epoch=int(train_generator.n/train_generator.batch_size), # as advised in docstring\n",
    "                                    validation_data=validation_generator,\n",
    "                                    validation_steps=int(validation_generator.n/validation_generator.batch_size), # as advised in docstring\n",
    "                                    callbacks=[earlystop,checkpoint,reducelr])"
   ]
  },
  {
   "cell_type": "code",
   "execution_count": 11,
   "metadata": {},
   "outputs": [
    {
     "data": {
      "image/png": "[encoded data removed]",
      "text/plain": [
       "<matplotlib.figure.Figure at 0x104d85048>"
      ]
     },
     "metadata": {},
     "output_type": "display_data"
    },
    {
     "data": {
      "image/png": "[encoded data removed]",
      "text/plain": [
       "<matplotlib.figure.Figure at 0x1819a11438>"
      ]
     },
     "metadata": {},
     "output_type": "display_data"
    }
   ],
   "source": [
    "# plot the learning performance\n",
    "\n",
    "# IAH: clean that!\n",
    "\n",
    "plt.figure(0)\n",
    "plt.plot(model_history.history['acc'],'r')\n",
    "plt.plot(model_history.history['val_acc'],'g')\n",
    "plt.xticks(np.arange(0, 20, 1.0))\n",
    "plt.rcParams['figure.figsize'] = (8, 6)\n",
    "plt.xlabel(\"Num of Epochs\")\n",
    "plt.ylabel(\"Accuracy\")\n",
    "plt.title(\"Training Accuracy vs Validation Accuracy\")\n",
    "plt.legend(['train','validation'])\n",
    " \n",
    "plt.figure(1)\n",
    "plt.plot(model_history.history['loss'],'r')\n",
    "plt.plot(model_history.history['val_loss'],'g')\n",
    "plt.xticks(np.arange(0, 20, 1.0))\n",
    "plt.rcParams['figure.figsize'] = (8, 6)\n",
    "plt.xlabel(\"Num of Epochs\")\n",
    "plt.ylabel(\"Loss\")\n",
    "plt.title(\"Training Loss vs Validation Loss\")\n",
    "plt.legend(['train','validation'])\n",
    "\n",
    "# plt.figure(2)\n",
    "# plt.plot(model_history.history['mean_squared_error'],'r')\n",
    "# plt.plot(model_history.history['val_mean_squared_error'],'g')\n",
    "# plt.xticks(np.arange(0, 20, 1.0))\n",
    "# plt.rcParams['figure.figsize'] = (8, 6)\n",
    "# plt.xlabel(\"Num of Epochs\")\n",
    "# plt.ylabel(\"MSE\")\n",
    "# plt.title(\"Training Loss vs Validation Loss\")\n",
    "# plt.legend(['train','validation'])\n",
    " \n",
    "plt.show()"
   ]
  },
  {
   "cell_type": "code",
   "execution_count": 12,
   "metadata": {},
   "outputs": [
    {
     "name": "stdout",
     "output_type": "stream",
     "text": [
      "50/50 [==============================] - 6s 115ms/step\n"
     ]
    }
   ],
   "source": [
    "# assess performance aon validation set\n",
    "\n",
    "# IAH: check if it is the correct way\n",
    "pred = model.predict_generator(validation_generator,\n",
    "                               steps=None,\n",
    "                               max_queue_size=10,\n",
    "                               workers=1,\n",
    "                               use_multiprocessing=False,\n",
    "                               verbose=1)\n",
    "# predicted = np.argmax(pred, axis=1)"
   ]
  },
  {
   "cell_type": "code",
   "execution_count": 31,
   "metadata": {},
   "outputs": [
    {
     "name": "stdout",
     "output_type": "stream",
     "text": [
      "13\n",
      "131 0.0175474\n",
      "190 0.0145975\n",
      "108 0.0136319\n",
      "119 0.0130766\n",
      "96 0.0124505\n",
      "139 0.0115525\n",
      "171 0.0114581\n",
      "173 0.0111281\n",
      "84 0.0103347\n",
      "191 0.01014\n"
     ]
    }
   ],
   "source": [
    "i,K = 101,10\n",
    "\n",
    "print(validation_generator.classes[i])\n",
    "pred_i = pred[i,:]\n",
    "argsort_i = np.argsort(pred_i)[::-1]\n",
    "for k in range(K):\n",
    "    print(argsort_i[k],pred_i[argsort_i[k]])"
   ]
  },
  {
   "cell_type": "code",
   "execution_count": null,
   "metadata": {},
   "outputs": [],
   "source": []
  }
 ],
 "metadata": {
  "kernelspec": {
   "display_name": "Python 3",
   "language": "python",
   "name": "python3"
  },
  "language_info": {
   "codemirror_mode": {
    "name": "ipython",
    "version": 3
   },
   "file_extension": ".py",
   "mimetype": "text/x-python",
   "name": "python",
   "nbconvert_exporter": "python",
   "pygments_lexer": "ipython3",
   "version": "3.6.4"
  }
 },
 "nbformat": 4,
 "nbformat_minor": 2
}
