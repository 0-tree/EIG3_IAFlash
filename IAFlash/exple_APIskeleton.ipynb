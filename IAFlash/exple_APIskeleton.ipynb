{
 "cells": [
  {
   "cell_type": "markdown",
   "metadata": {},
   "source": [
    "# [IAFlash](https://entrepreneur-interet-general.etalab.gouv.fr/defis/2019/iaflash.html) simple exploration"
   ]
  },
  {
   "cell_type": "markdown",
   "metadata": {},
   "source": [
    "## API skeleton"
   ]
  },
  {
   "cell_type": "markdown",
   "metadata": {},
   "source": [
    "This is in essence what a client API whould run.  \n",
    "\n",
    "**Important note**: this API only aims at classifying cars on preprocessed images. No work is done regarding e.g. object detection."
   ]
  },
  {
   "cell_type": "markdown",
   "metadata": {},
   "source": [
    "### Imports"
   ]
  },
  {
   "cell_type": "code",
   "execution_count": 1,
   "metadata": {},
   "outputs": [
    {
     "name": "stderr",
     "output_type": "stream",
     "text": [
      "Using TensorFlow backend.\n"
     ]
    }
   ],
   "source": [
    "import os\n",
    "HOME = os.path.expanduser('~/')\n",
    "HOST = os.uname()[1]\n",
    "if HOST == 'Arthurs-MacBook-Pro.local':\n",
    "    os.chdir(os.path.join(HOME, 'Documents/GitHub/EIG3_IAFlash/'))    # @home\n",
    "else:\n",
    "    raise ValueError('unknown host: {}'.format(HOST))\n",
    "    \n",
    "import numpy as np\n",
    "# import re\n",
    "# import pandas as pd\n",
    "import time\n",
    "import pickle\n",
    "from PIL import Image\n",
    "\n",
    "# from keras.preprocessing.image import ImageDataGenerator\n",
    "# from keras.applications import densenet\n",
    "from keras.models import load_model\n",
    "# from keras.layers import Conv2D, MaxPooling2D\n",
    "# from keras.layers import Activation, Dropout, Flatten, Dense\n",
    "# from keras.callbacks import EarlyStopping, ReduceLROnPlateau, ModelCheckpoint, Callback\n",
    "# from keras import regularizers\n",
    "# from keras import backend as K\n",
    "\n",
    "# from sklearn.metrics import confusion_matrix, classification_report\n",
    "\n",
    "import matplotlib.pyplot as plt\n",
    "%matplotlib inline\n",
    "\n",
    "# from IAFlash.helpers import DataHandler, ImageWorker # needs correct working directory"
   ]
  },
  {
   "cell_type": "markdown",
   "metadata": {},
   "source": [
    "### Variables"
   ]
  },
  {
   "cell_type": "code",
   "execution_count": 2,
   "metadata": {
    "scrolled": true
   },
   "outputs": [],
   "source": [
    "# data\n",
    "if HOST == 'Arthurs-MacBook-Pro.local':\n",
    "    pathToDataDir = os.path.join(HOME, 'Documents/Dropbox/Transit/EIG3_IAFlash/Patches/edge128bwTrueresampleFilter0')\n",
    "    pathToIntellDir = os.path.join(HOME, 'Documents/GitHub/EIG3_IAFlash/IAFlash/Intelligence/')\n",
    "else:\n",
    "    raise ValueError('unknown host: {}'.format(HOST))\n",
    "\n",
    "# intelligence\n",
    "datagen = pickle.load(open(pathToIntellDir+'datagen.pkl','rb'))\n",
    "classesDict = pickle.load(open(pathToIntellDir+'classesDict.pkl','rb'))\n",
    "model = load_model(pathToIntellDir+'model.h5')\n",
    "K = 5\n",
    "\n",
    "# testing\n",
    "# image_file = os.path.join(pathToDataDir, 'Test', 'Acura TL Type-S 2008/000290.jpg')\n",
    "image_file = os.path.join(pathToDataDir, 'Test', 'Porsche Panamera Sedan 2012/014241.jpg')\n",
    "# image_file = os.path.join(pathToDataDir, 'Test', 'Ford Ranger SuperCab 2011/009079.jpg')\n",
    "\n",
    "# seed\n",
    "seed = 8\n",
    "np.random.seed(seed)"
   ]
  },
  {
   "cell_type": "markdown",
   "metadata": {},
   "source": [
    "### Example of API call"
   ]
  },
  {
   "cell_type": "code",
   "execution_count": 3,
   "metadata": {},
   "outputs": [
    {
     "name": "stdout",
     "output_type": "stream",
     "text": [
      "\n",
      "top 5 predictions for image:\n"
     ]
    },
    {
     "data": {
      "image/png": "[encoded data removed]",
      "text/plain": [
       "<PIL.JpegImagePlugin.JpegImageFile image mode=L size=128x128 at 0x10C2B6C88>"
      ]
     },
     "metadata": {},
     "output_type": "display_data"
    },
    {
     "name": "stdout",
     "output_type": "stream",
     "text": [
      "   Ford Edge SUV 2012 (0.01362711563706398)\n",
      "   Audi TT Hatchback 2011 (0.01284023467451334)\n",
      "   Dodge Caliber Wagon 2007 (0.012164943851530552)\n",
      "   BMW X6 SUV 2012 (0.011722292751073837)\n",
      "   Cadillac SRX SUV 2012 (0.011534429155290127)\n",
      "\n",
      "all predictions:\n"
     ]
    },
    {
     "data": {
      "image/png": "[encoded data removed]",
      "text/plain": [
       "<matplotlib.figure.Figure at 0x10560cef0>"
      ]
     },
     "metadata": {},
     "output_type": "display_data"
    }
   ],
   "source": [
    "#-- load image and array\n",
    "image = Image.open(image_file)\n",
    "\n",
    "x = np.array(image)\n",
    "if 'channels_last' == datagen.data_format:\n",
    "    x = x.reshape((1, x.shape[0], x.shape[1], 1)) # [sample, w, h, channel]\n",
    "else:\n",
    "    raise ValueError('cannot work with othet data format than \"channels_last\".')\n",
    "    \n",
    "    \n",
    "#-- run model\n",
    "# NB: we use a (dummy) generator in order to\n",
    "# take into account the processing done by `datagen`\n",
    "generator = datagen.flow(x,\n",
    "                         y=None,\n",
    "                         batch_size=1,\n",
    "                         shuffle=False,\n",
    "                         seed=None,\n",
    "#                          save_to_dir=pathToDataDir, # use this to print one batch when calling generator[batchIdx]\n",
    "#                          save_prefix='valid_',      #\n",
    "#                          save_format='png'          #\n",
    "                         )\n",
    "\n",
    "score = model.predict_generator(generator,\n",
    "                                steps=len(generator),\n",
    "                                max_queue_size=10,\n",
    "                                workers=1,\n",
    "                                use_multiprocessing=False,\n",
    "                                verbose=0).flatten()\n",
    "predicted = np.argmax(score)\n",
    "argsort_score = np.argsort(score)[::-1]\n",
    "\n",
    "\n",
    "#-- output\n",
    "print('\\ntop {} predictions for image:'.format(K))\n",
    "display(image)\n",
    "for k in range(K):\n",
    "    iv = int(argsort_score[k]) # NB: does not work inside the list comprehension...\n",
    "    label = [k for k,v in classesDict.items() if v == iv][0]\n",
    "    print('   {} ({})'.format(label, score[argsort_score[k]]))\n",
    "    \n",
    "print('\\nall predictions:')\n",
    "f = plt.figure(figsize=(5,15))\n",
    "ax = f.add_subplot(1,1,1)\n",
    "ax.barh(np.arange(len(score)),\n",
    "        score,\n",
    "        height=0.8,\n",
    "        left=None,\n",
    "        align='center')\n",
    "ax.set_ylim((-1,len(score)+1))\n",
    "plt.show()"
   ]
  }
 ],
 "metadata": {
  "kernelspec": {
   "display_name": "Python 3",
   "language": "python",
   "name": "python3"
  },
  "language_info": {
   "codemirror_mode": {
    "name": "ipython",
    "version": 3
   },
   "file_extension": ".py",
   "mimetype": "text/x-python",
   "name": "python",
   "nbconvert_exporter": "python",
   "pygments_lexer": "ipython3",
   "version": "3.6.4"
  }
 },
 "nbformat": 4,
 "nbformat_minor": 2
}
